{
 "cells": [
  {
   "cell_type": "markdown",
   "id": "e82db0e6",
   "metadata": {
    "papermill": {
     "duration": 0.006118,
     "end_time": "2025-06-02T08:30:15.483798",
     "exception": false,
     "start_time": "2025-06-02T08:30:15.477680",
     "status": "completed"
    },
    "tags": []
   },
   "source": []
  },
  {
   "cell_type": "code",
   "execution_count": 1,
   "id": "7165c813",
   "metadata": {
    "execution": {
     "iopub.execute_input": "2025-06-02T08:30:15.495694Z",
     "iopub.status.busy": "2025-06-02T08:30:15.495389Z",
     "iopub.status.idle": "2025-06-02T08:30:26.930867Z",
     "shell.execute_reply": "2025-06-02T08:30:26.929477Z"
    },
    "papermill": {
     "duration": 11.443737,
     "end_time": "2025-06-02T08:30:26.933014",
     "exception": false,
     "start_time": "2025-06-02T08:30:15.489277",
     "status": "completed"
    },
    "tags": []
   },
   "outputs": [],
   "source": [
    "# Kaggle Playground Series S5E5: Calories Burned Prediction (Optimised for Highest Accuracy)\n",
    "\n",
    "# Importing Required Libraries\n",
    "import pandas as pd\n",
    "import numpy as np\n",
    "import seaborn as sns\n",
    "import matplotlib.pyplot as plt\n",
    "import lightgbm as lgb\n",
    "import xgboost as xgb\n",
    "import catboost as cb\n",
    "from sklearn.model_selection import KFold\n",
    "from sklearn.metrics import mean_squared_log_error, mean_squared_error, mean_absolute_error, r2_score\n",
    "from sklearn.preprocessing import PowerTransformer, RobustScaler\n",
    "from sklearn.impute import SimpleImputer\n",
    "from sklearn.pipeline import Pipeline\n",
    "from sklearn.ensemble import StackingRegressor\n",
    "from sklearn.decomposition import PCA\n",
    "from sklearn.linear_model import Ridge, Lasso\n",
    "from sklearn.neural_network import MLPRegressor\n",
    "import warnings\n",
    "warnings.filterwarnings('ignore')\n"
   ]
  },
  {
   "cell_type": "code",
   "execution_count": 2,
   "id": "1f0a304b",
   "metadata": {
    "_cell_guid": "b1076dfc-b9ad-4769-8c92-a6c4dae69d19",
    "_uuid": "8f2839f25d086af736a60e9eeb907d3b93b6e0e5",
    "execution": {
     "iopub.execute_input": "2025-06-02T08:30:26.946749Z",
     "iopub.status.busy": "2025-06-02T08:30:26.945849Z",
     "iopub.status.idle": "2025-06-02T08:30:28.308130Z",
     "shell.execute_reply": "2025-06-02T08:30:28.307072Z"
    },
    "papermill": {
     "duration": 1.371312,
     "end_time": "2025-06-02T08:30:28.310102",
     "exception": false,
     "start_time": "2025-06-02T08:30:26.938790",
     "status": "completed"
    },
    "tags": []
   },
   "outputs": [],
   "source": [
    "# Load Data\n",
    "train = pd.read_csv('/kaggle/input/playground-series-s5e5/train.csv')\n",
    "test = pd.read_csv('/kaggle/input/playground-series-s5e5/test.csv')\n",
    "submission = pd.read_csv('/kaggle/input/playground-series-s5e5/sample_submission.csv')\n"
   ]
  },
  {
   "cell_type": "markdown",
   "id": "d9abbd65",
   "metadata": {
    "papermill": {
     "duration": 0.005207,
     "end_time": "2025-06-02T08:30:28.320679",
     "exception": false,
     "start_time": "2025-06-02T08:30:28.315472",
     "status": "completed"
    },
    "tags": []
   },
   "source": [
    "# **Overview of the Data** "
   ]
  },
  {
   "cell_type": "code",
   "execution_count": 3,
   "id": "50a96765",
   "metadata": {
    "execution": {
     "iopub.execute_input": "2025-06-02T08:30:28.332737Z",
     "iopub.status.busy": "2025-06-02T08:30:28.332336Z",
     "iopub.status.idle": "2025-06-02T08:30:28.338187Z",
     "shell.execute_reply": "2025-06-02T08:30:28.337096Z"
    },
    "papermill": {
     "duration": 0.01366,
     "end_time": "2025-06-02T08:30:28.339955",
     "exception": false,
     "start_time": "2025-06-02T08:30:28.326295",
     "status": "completed"
    },
    "tags": []
   },
   "outputs": [
    {
     "name": "stdout",
     "output_type": "stream",
     "text": [
      "Train shape: (750000, 9)\n",
      "Test shape: (250000, 8)\n"
     ]
    }
   ],
   "source": [
    "print(\"Train shape:\", train.shape)\n",
    "print(\"Test shape:\", test.shape)"
   ]
  },
  {
   "cell_type": "code",
   "execution_count": 4,
   "id": "c9bffd47",
   "metadata": {
    "execution": {
     "iopub.execute_input": "2025-06-02T08:30:28.351606Z",
     "iopub.status.busy": "2025-06-02T08:30:28.351255Z",
     "iopub.status.idle": "2025-06-02T08:30:28.438198Z",
     "shell.execute_reply": "2025-06-02T08:30:28.436954Z"
    },
    "papermill": {
     "duration": 0.094811,
     "end_time": "2025-06-02T08:30:28.439819",
     "exception": false,
     "start_time": "2025-06-02T08:30:28.345008",
     "status": "completed"
    },
    "tags": []
   },
   "outputs": [
    {
     "name": "stdout",
     "output_type": "stream",
     "text": [
      "Train info:\n",
      "<class 'pandas.core.frame.DataFrame'>\n",
      "RangeIndex: 750000 entries, 0 to 749999\n",
      "Data columns (total 9 columns):\n",
      " #   Column      Non-Null Count   Dtype  \n",
      "---  ------      --------------   -----  \n",
      " 0   id          750000 non-null  int64  \n",
      " 1   Sex         750000 non-null  object \n",
      " 2   Age         750000 non-null  int64  \n",
      " 3   Height      750000 non-null  float64\n",
      " 4   Weight      750000 non-null  float64\n",
      " 5   Duration    750000 non-null  float64\n",
      " 6   Heart_Rate  750000 non-null  float64\n",
      " 7   Body_Temp   750000 non-null  float64\n",
      " 8   Calories    750000 non-null  float64\n",
      "dtypes: float64(6), int64(2), object(1)\n",
      "memory usage: 51.5+ MB\n",
      "None\n"
     ]
    }
   ],
   "source": [
    "print(\"Train info:\")\n",
    "print(train.info())"
   ]
  },
  {
   "cell_type": "code",
   "execution_count": 5,
   "id": "4feb19f7",
   "metadata": {
    "execution": {
     "iopub.execute_input": "2025-06-02T08:30:28.451514Z",
     "iopub.status.busy": "2025-06-02T08:30:28.451166Z",
     "iopub.status.idle": "2025-06-02T08:30:28.811948Z",
     "shell.execute_reply": "2025-06-02T08:30:28.810883Z"
    },
    "papermill": {
     "duration": 0.368574,
     "end_time": "2025-06-02T08:30:28.813658",
     "exception": false,
     "start_time": "2025-06-02T08:30:28.445084",
     "status": "completed"
    },
    "tags": []
   },
   "outputs": [
    {
     "name": "stdout",
     "output_type": "stream",
     "text": [
      "\n",
      "Missing values in training set:\n",
      " id            0\n",
      "Sex           0\n",
      "Age           0\n",
      "Height        0\n",
      "Weight        0\n",
      "Duration      0\n",
      "Heart_Rate    0\n",
      "Body_Temp     0\n",
      "Calories      0\n",
      "dtype: int64\n",
      "\n",
      "Statistical summary:\n",
      "                   id            Age         Height         Weight  \\\n",
      "count  750000.000000  750000.000000  750000.000000  750000.000000   \n",
      "mean   374999.500000      41.420404     174.697685      75.145668   \n",
      "std    216506.495284      15.175049      12.824496      13.982704   \n",
      "min         0.000000      20.000000     126.000000      36.000000   \n",
      "25%    187499.750000      28.000000     164.000000      63.000000   \n",
      "50%    374999.500000      40.000000     174.000000      74.000000   \n",
      "75%    562499.250000      52.000000     185.000000      87.000000   \n",
      "max    749999.000000      79.000000     222.000000     132.000000   \n",
      "\n",
      "            Duration     Heart_Rate      Body_Temp       Calories  \n",
      "count  750000.000000  750000.000000  750000.000000  750000.000000  \n",
      "mean       15.421015      95.483995      40.036253      88.282781  \n",
      "std         8.354095       9.449845       0.779875      62.395349  \n",
      "min         1.000000      67.000000      37.100000       1.000000  \n",
      "25%         8.000000      88.000000      39.600000      34.000000  \n",
      "50%        15.000000      95.000000      40.300000      77.000000  \n",
      "75%        23.000000     103.000000      40.700000     136.000000  \n",
      "max        30.000000     128.000000      41.500000     314.000000  \n",
      "\n",
      "First 10 numerical rows:\n",
      "    id  Age  Height  Weight  Duration  Heart_Rate  Body_Temp  Calories\n",
      "0   0   36   189.0    82.0      26.0       101.0       41.0     150.0\n",
      "1   1   64   163.0    60.0       8.0        85.0       39.7      34.0\n",
      "2   2   51   161.0    64.0       7.0        84.0       39.8      29.0\n",
      "3   3   20   192.0    90.0      25.0       105.0       40.7     140.0\n",
      "4   4   38   166.0    61.0      25.0       102.0       40.6     146.0\n",
      "5   5   26   156.0    56.0      19.0       100.0       40.5     103.0\n",
      "6   6   21   172.0    73.0       3.0        81.0       38.3       9.0\n",
      "7   7   46   188.0    94.0      23.0       100.0       40.8     145.0\n",
      "8   8   33   166.0    63.0      25.0       107.0       40.5     161.0\n",
      "9   9   65   185.0    88.0      23.0       104.0       41.0     185.0\n"
     ]
    }
   ],
   "source": [
    "# Initial Exploration\n",
    "print(\"\\nMissing values in training set:\\n\", train.isnull().sum())\n",
    "print(\"\\nStatistical summary:\\n\", train.describe())\n",
    "print(\"\\nFirst 10 numerical rows:\\n\", train.select_dtypes(include=np.number).head(10))\n"
   ]
  },
  {
   "cell_type": "code",
   "execution_count": 6,
   "id": "cc4ab303",
   "metadata": {
    "execution": {
     "iopub.execute_input": "2025-06-02T08:30:28.825783Z",
     "iopub.status.busy": "2025-06-02T08:30:28.825445Z",
     "iopub.status.idle": "2025-06-02T08:30:32.517031Z",
     "shell.execute_reply": "2025-06-02T08:30:32.516130Z"
    },
    "papermill": {
     "duration": 3.699589,
     "end_time": "2025-06-02T08:30:32.518704",
     "exception": false,
     "start_time": "2025-06-02T08:30:28.819115",
     "status": "completed"
    },
    "tags": []
   },
   "outputs": [
    {
     "data": {
      "image/png": "[encoded data removed]",
      "text/plain": [
       "<Figure size 1000x500 with 1 Axes>"
      ]
     },
     "metadata": {},
     "output_type": "display_data"
    }
   ],
   "source": [
    "\n",
    "# EDA Visualisations\n",
    "plt.figure(figsize=(10, 5))\n",
    "sns.histplot(train['Calories'], bins=50, kde=True)\n",
    "plt.title('Calories Burned Distribution')\n",
    "plt.show()\n"
   ]
  },
  {
   "cell_type": "code",
   "execution_count": 7,
   "id": "185a98bf",
   "metadata": {
    "execution": {
     "iopub.execute_input": "2025-06-02T08:30:32.532651Z",
     "iopub.status.busy": "2025-06-02T08:30:32.532301Z",
     "iopub.status.idle": "2025-06-02T08:30:33.167724Z",
     "shell.execute_reply": "2025-06-02T08:30:33.166618Z"
    },
    "papermill": {
     "duration": 0.64547,
     "end_time": "2025-06-02T08:30:33.170627",
     "exception": false,
     "start_time": "2025-06-02T08:30:32.525157",
     "status": "completed"
    },
    "tags": []
   },
   "outputs": [
    {
     "data": {
      "image/png": "[encoded data removed]",
      "text/plain": [
       "<Figure size 1200x1000 with 2 Axes>"
      ]
     },
     "metadata": {},
     "output_type": "display_data"
    }
   ],
   "source": [
    "# Heatmap\n",
    "plt.figure(figsize=(12, 10))\n",
    "corr_matrix = train.select_dtypes(include=[np.number]).corr()\n",
    "sns.heatmap(corr_matrix, annot=True, fmt=\".2f\", cmap=\"coolwarm\", square=True, cbar_kws={\"shrink\": .8})\n",
    "plt.title(\"Feature Correlation Heatmap\", fontsize=16)\n",
    "plt.tight_layout()\n",
    "plt.show()"
   ]
  },
  {
   "cell_type": "code",
   "execution_count": 8,
   "id": "4ccdef6e",
   "metadata": {
    "execution": {
     "iopub.execute_input": "2025-06-02T08:30:33.187575Z",
     "iopub.status.busy": "2025-06-02T08:30:33.187169Z",
     "iopub.status.idle": "2025-06-02T08:30:33.223577Z",
     "shell.execute_reply": "2025-06-02T08:30:33.222626Z"
    },
    "papermill": {
     "duration": 0.046947,
     "end_time": "2025-06-02T08:30:33.225438",
     "exception": false,
     "start_time": "2025-06-02T08:30:33.178491",
     "status": "completed"
    },
    "tags": []
   },
   "outputs": [],
   "source": [
    "# Basic Cleaning\n",
    "train_id = train['id']\n",
    "test_id = test['id']\n",
    "train.drop(['id'], axis=1, inplace=True)\n",
    "test.drop(['id'], axis=1, inplace=True)\n"
   ]
  },
  {
   "cell_type": "code",
   "execution_count": 9,
   "id": "6bcfc835",
   "metadata": {
    "execution": {
     "iopub.execute_input": "2025-06-02T08:30:33.241475Z",
     "iopub.status.busy": "2025-06-02T08:30:33.241039Z",
     "iopub.status.idle": "2025-06-02T08:30:33.270557Z",
     "shell.execute_reply": "2025-06-02T08:30:33.269598Z"
    },
    "papermill": {
     "duration": 0.039444,
     "end_time": "2025-06-02T08:30:33.272285",
     "exception": false,
     "start_time": "2025-06-02T08:30:33.232841",
     "status": "completed"
    },
    "tags": []
   },
   "outputs": [],
   "source": [
    "# Feature Engineering\n",
    "train['BMI'] = train['Weight'] / ((train['Height']/100)**2)\n",
    "test['BMI'] = test['Weight'] / ((test['Height']/100)**2)\n",
    "train['Age*BMI'] = train['Age'] * train['BMI']\n",
    "test['Age*BMI'] = test['Age'] * test['BMI']\n",
    "\n",
    "# Check if 'Gender' column exists before attempting to use and drop it\n",
    "if 'Gender' in train.columns:\n",
    "    train['Gender_Code'] = train['Gender'].map({'Male': 0, 'Female': 1})\n",
    "    train.drop('Gender', axis=1, inplace=True)\n",
    "\n",
    "if 'Gender' in test.columns:\n",
    "    test['Gender_Code'] = test['Gender'].map({'Male': 0, 'Female': 1})\n",
    "    test.drop('Gender', axis=1, inplace=True)"
   ]
  },
  {
   "cell_type": "code",
   "execution_count": 10,
   "id": "3a205f72",
   "metadata": {
    "execution": {
     "iopub.execute_input": "2025-06-02T08:30:33.288533Z",
     "iopub.status.busy": "2025-06-02T08:30:33.287870Z",
     "iopub.status.idle": "2025-06-02T08:30:43.502371Z",
     "shell.execute_reply": "2025-06-02T08:30:43.501404Z"
    },
    "papermill": {
     "duration": 10.22874,
     "end_time": "2025-06-02T08:30:43.508414",
     "exception": false,
     "start_time": "2025-06-02T08:30:33.279674",
     "status": "completed"
    },
    "tags": []
   },
   "outputs": [],
   "source": [
    "if 'Gender' in train.columns:\n",
    "    train['Gender_Code'] = train['Gender'].map({'Male': 0, 'Female': 1})\n",
    "    train.drop('Gender', axis=1, inplace=True)\n",
    "# Assuming 'Sex' is the actual column name based on the error, but the code uses 'Gender'.\n",
    "# Let's add a check for 'Sex' as well, just in case.\n",
    "elif 'Sex' in train.columns:\n",
    "    train['Gender_Code'] = train['Sex'].map({'male': 0, 'female': 1}) # Mapping based on error message\n",
    "    train.drop('Sex', axis=1, inplace=True)\n",
    "\n",
    "\n",
    "if 'Gender' in test.columns:\n",
    "    test['Gender_Code'] = test['Gender'].map({'Male': 0, 'Female': 1})\n",
    "    test.drop('Gender', axis=1, inplace=True)\n",
    "elif 'Sex' in test.columns:\n",
    "    test['Gender_Code'] = test['Sex'].map({'male': 0, 'female': 1}) # Mapping based on error message\n",
    "    test.drop('Sex', axis=1, inplace=True)\n",
    "\n",
    "# Separate features (X) and target (y) BEFORE applying the preprocessor\n",
    "X = train.drop('Calories', axis=1) # Features for training\n",
    "y = train['Calories']             # Target variable for training\n",
    "X_test = test.copy()              # Features for testing (no target)\n",
    "\n",
    "# Now define and apply the preprocessor after non-numeric columns are handled\n",
    "preprocessor = Pipeline([\n",
    "    ('imputer', SimpleImputer(strategy='mean')),\n",
    "    ('scaler', RobustScaler()),\n",
    "    ('power', PowerTransformer())\n",
    "])\n",
    "\n",
    "# Fit the preprocessor only on the training features (X)\n",
    "train_processed = preprocessor.fit_transform(X)\n",
    "\n",
    "# Transform the test features (X_test) using the fitted preprocessor\n",
    "test_processed = preprocessor.transform(X_test)\n",
    "\n",
    "# Apply PCA\n",
    "pca = PCA(n_components=0.99)\n",
    "train_pca = pca.fit_transform(train_processed)\n",
    "test_pca = pca.transform(test_processed)"
   ]
  },
  {
   "cell_type": "code",
   "execution_count": 11,
   "id": "b742c1ec",
   "metadata": {
    "execution": {
     "iopub.execute_input": "2025-06-02T08:30:43.535751Z",
     "iopub.status.busy": "2025-06-02T08:30:43.534255Z",
     "iopub.status.idle": "2025-06-02T08:30:43.545771Z",
     "shell.execute_reply": "2025-06-02T08:30:43.544605Z"
    },
    "papermill": {
     "duration": 0.025701,
     "end_time": "2025-06-02T08:30:43.547353",
     "exception": false,
     "start_time": "2025-06-02T08:30:43.521652",
     "status": "completed"
    },
    "tags": []
   },
   "outputs": [
    {
     "name": "stdout",
     "output_type": "stream",
     "text": [
      "   Age  Height  Weight  Duration  Heart_Rate  Body_Temp  Calories        BMI  \\\n",
      "0   36   189.0    82.0      26.0       101.0       41.0     150.0  22.955684   \n",
      "1   64   163.0    60.0       8.0        85.0       39.7      34.0  22.582709   \n",
      "2   51   161.0    64.0       7.0        84.0       39.8      29.0  24.690405   \n",
      "3   20   192.0    90.0      25.0       105.0       40.7     140.0  24.414062   \n",
      "4   38   166.0    61.0      25.0       102.0       40.6     146.0  22.136740   \n",
      "\n",
      "       Age*BMI  Gender_Code  \n",
      "0   826.404636            0  \n",
      "1  1445.293387            1  \n",
      "2  1259.210679            1  \n",
      "3   488.281250            0  \n",
      "4   841.196110            1  \n"
     ]
    }
   ],
   "source": [
    "print(train.head())"
   ]
  },
  {
   "cell_type": "code",
   "execution_count": 12,
   "id": "f1a93dcf",
   "metadata": {
    "execution": {
     "iopub.execute_input": "2025-06-02T08:30:43.563394Z",
     "iopub.status.busy": "2025-06-02T08:30:43.563048Z",
     "iopub.status.idle": "2025-06-02T08:30:43.572616Z",
     "shell.execute_reply": "2025-06-02T08:30:43.571568Z"
    },
    "papermill": {
     "duration": 0.019326,
     "end_time": "2025-06-02T08:30:43.573916",
     "exception": false,
     "start_time": "2025-06-02T08:30:43.554590",
     "status": "completed"
    },
    "tags": []
   },
   "outputs": [
    {
     "name": "stdout",
     "output_type": "stream",
     "text": [
      "   Age  Height  Weight  Duration  Heart_Rate  Body_Temp        BMI  \\\n",
      "0   45   177.0    81.0       7.0        87.0       39.8  25.854639   \n",
      "1   26   200.0    97.0      20.0       101.0       40.5  24.250000   \n",
      "2   29   188.0    85.0      16.0       102.0       40.4  24.049344   \n",
      "3   39   172.0    73.0      20.0       107.0       40.6  24.675500   \n",
      "4   30   173.0    67.0      16.0        94.0       40.5  22.386314   \n",
      "\n",
      "       Age*BMI  Gender_Code  \n",
      "0  1163.458776            0  \n",
      "1   630.500000            0  \n",
      "2   697.430964            1  \n",
      "3   962.344511            1  \n",
      "4   671.589428            1  \n"
     ]
    }
   ],
   "source": [
    "print(test.head())"
   ]
  },
  {
   "cell_type": "code",
   "execution_count": 13,
   "id": "c40d2b20",
   "metadata": {
    "execution": {
     "iopub.execute_input": "2025-06-02T08:30:43.590381Z",
     "iopub.status.busy": "2025-06-02T08:30:43.590009Z",
     "iopub.status.idle": "2025-06-02T08:30:43.596476Z",
     "shell.execute_reply": "2025-06-02T08:30:43.595640Z"
    },
    "papermill": {
     "duration": 0.016436,
     "end_time": "2025-06-02T08:30:43.598172",
     "exception": false,
     "start_time": "2025-06-02T08:30:43.581736",
     "status": "completed"
    },
    "tags": []
   },
   "outputs": [
    {
     "name": "stdout",
     "output_type": "stream",
     "text": [
      "       id  Calories\n",
      "0  750000    88.283\n",
      "1  750001    88.283\n",
      "2  750002    88.283\n",
      "3  750003    88.283\n",
      "4  750004    88.283\n"
     ]
    }
   ],
   "source": [
    "print(submission.head())"
   ]
  },
  {
   "cell_type": "code",
   "execution_count": 14,
   "id": "65050f2f",
   "metadata": {
    "execution": {
     "iopub.execute_input": "2025-06-02T08:30:43.614675Z",
     "iopub.status.busy": "2025-06-02T08:30:43.614347Z",
     "iopub.status.idle": "2025-06-02T08:30:43.620543Z",
     "shell.execute_reply": "2025-06-02T08:30:43.619496Z"
    },
    "papermill": {
     "duration": 0.01622,
     "end_time": "2025-06-02T08:30:43.621950",
     "exception": false,
     "start_time": "2025-06-02T08:30:43.605730",
     "status": "completed"
    },
    "tags": []
   },
   "outputs": [
    {
     "name": "stdout",
     "output_type": "stream",
     "text": [
      "\n",
      "Processed Train data (after imputation, scaling, power transform, and PCA):\n",
      " [[ 7.03516838e-01  1.98433785e+00 -1.07540976e+00 -1.34531769e+00\n",
      "  -6.73765632e-01 -7.85384899e-01]\n",
      " [-1.54978709e+00 -1.41344467e+00  2.28855318e+00 -5.66726658e-01\n",
      "  -2.24468116e-01 -2.88100704e-01]\n",
      " [-1.01026317e+00 -1.50235866e+00  1.60242599e+00  6.79403104e-01\n",
      "   3.64841214e-01 -4.08909501e-01]\n",
      " [ 1.07093923e+00  1.59277830e+00 -2.85325700e+00 -5.22021747e-01\n",
      "  -4.00892311e-02  2.60390771e-03]\n",
      " [-2.11637591e+00  1.42938666e+00  1.69220906e-02 -6.75278324e-01\n",
      "  -9.04367080e-02 -8.06095858e-02]]\n",
      "\n",
      "Processed Test data (after imputation, scaling, power transform, and PCA):\n",
      " [[ 1.45029488 -1.36244819  0.42824386  0.60194002 -0.37495213 -0.20495552]\n",
      " [ 1.73875083  0.79705532 -2.26439469 -1.12279435  0.14098069  0.05190562]\n",
      " [ 0.00387985  0.50598477 -1.27221548 -0.81949459  1.32696003  0.41143118]\n",
      " [-0.55179561  1.42771662  0.10852519  0.1702622   0.83666772  0.4943924 ]\n",
      " [-1.7148652   0.14279136 -0.84817895 -0.80217532  0.31527723 -0.39603928]]\n"
     ]
    }
   ],
   "source": [
    "# Display the first few rows of the processed data\n",
    "print(\"\\nProcessed Train data (after imputation, scaling, power transform, and PCA):\\n\", train_pca[:5])\n",
    "print(\"\\nProcessed Test data (after imputation, scaling, power transform, and PCA):\\n\", test_pca[:5])\n"
   ]
  },
  {
   "cell_type": "code",
   "execution_count": 15,
   "id": "acbf1029",
   "metadata": {
    "execution": {
     "iopub.execute_input": "2025-06-02T08:30:43.638574Z",
     "iopub.status.busy": "2025-06-02T08:30:43.638258Z",
     "iopub.status.idle": "2025-06-02T08:30:43.643113Z",
     "shell.execute_reply": "2025-06-02T08:30:43.642008Z"
    },
    "papermill": {
     "duration": 0.015048,
     "end_time": "2025-06-02T08:30:43.644588",
     "exception": false,
     "start_time": "2025-06-02T08:30:43.629540",
     "status": "completed"
    },
    "tags": []
   },
   "outputs": [
    {
     "name": "stdout",
     "output_type": "stream",
     "text": [
      "\n",
      "Number of PCA components selected: 6\n"
     ]
    }
   ],
   "source": [
    "# Display the number of components chosen by PCA\n",
    "print(f\"\\nNumber of PCA components selected: {pca.n_components_}\")"
   ]
  },
  {
   "cell_type": "code",
   "execution_count": 16,
   "id": "e1b12804",
   "metadata": {
    "execution": {
     "iopub.execute_input": "2025-06-02T08:30:43.662702Z",
     "iopub.status.busy": "2025-06-02T08:30:43.662387Z",
     "iopub.status.idle": "2025-06-02T08:30:43.914817Z",
     "shell.execute_reply": "2025-06-02T08:30:43.913728Z"
    },
    "papermill": {
     "duration": 0.26385,
     "end_time": "2025-06-02T08:30:43.916649",
     "exception": false,
     "start_time": "2025-06-02T08:30:43.652799",
     "status": "completed"
    },
    "tags": []
   },
   "outputs": [
    {
     "name": "stdout",
     "output_type": "stream",
     "text": [
      "\n",
      "Fold 1\n",
      "\n",
      "Fold 2\n",
      "\n",
      "Fold 3\n",
      "\n",
      "Fold 4\n",
      "\n",
      "Fold 5\n"
     ]
    }
   ],
   "source": [
    "# Initialize lists to store validation results and final test predictions\n",
    "all_val_preds = []\n",
    "all_val_true = []\n",
    "val_scores = []\n",
    "# Use the PCA-transformed data for training and validation split\n",
    "X_pca = train_pca\n",
    "# Keep the original target variable y as is\n",
    "y_original = y # Store original y before potential log transformation if needed\n",
    "\n",
    "# Define KFold split\n",
    "kf = KFold(n_splits=5, shuffle=True, random_state=2025) # Define kf here\n",
    "\n",
    "final_preds = np.zeros(test_pca.shape[0]) # Initialize final_preds with the shape of the processed test data\n",
    "\n",
    "# Cross-validation loop using the PCA-transformed data\n",
    "# Use kf.split on the indices of the PCA-transformed data or the original data shape\n",
    "# since the split is based on the number of samples.\n",
    "# The important part is to index the PCA-transformed data (X_pca) using these indices.\n",
    "for fold, (train_idx, val_idx) in enumerate(kf.split(X_pca)): # Use X_pca for splitting indices\n",
    "    print(f\"\\nFold {fold+1}\")\n",
    "\n",
    "    # Use the PCA-transformed data (X_pca) and the original target (y_original)\n",
    "    # Index them using the indices from the kf.split(X_pca)\n",
    "    X_train, X_val = X_pca[train_idx], X_pca[val_idx]\n",
    "    y_train, y_val = y_original.iloc[train_idx], y_original.iloc[val_idx] # Use y_original for target split, iloc should work as y is a Series\n",
    "\n",
    "    models = [\n",
    "        ('lgb', lgb.LGBMRegressor(n_estimators=1500, learning_rate=0.008,\n",
    "                                  num_leaves=60, colsample_bytree=0.85,\n",
    "                                  subsample=0.9, random_state=2025)),\n",
    "\n",
    "        ('xgb', xgb.XGBRegressor(n_estimators=1500, learning_rate=0.008,\n",
    "                                 max_depth=6, subsample=0.85, colsample_bytree=0.85,\n",
    "                                 objective='reg:squarederror', random_state=2025)),\n",
    "\n",
    "        ('cat', cb.CatBoostRegressor(iterations=1500, learning_rate=0.008,\n",
    "                                     depth=6, verbose=0, random_seed=2025)),\n",
    "\n",
    "        ('mlp', MLPRegressor(hidden_layer_sizes=(128,64), max_iter=1000, learning_rate_init=0.001, random_state=2025)),\n",
    "\n",
    "        ('ridge', Ridge(alpha=1.0)),\n",
    "\n",
    "        ('lasso', Lasso(alpha=0.001))\n",
    "    ]\n",
    "\n",
    "    ensemble = StackingRegressor(\n",
    "        estimators=models,\n",
    "        final_estimator=lgb.LGBMRegressor(n_estimators=500, learning_rate=0.03),\n",
    "        passthrough=True\n",
    "    )\n"
   ]
  },
  {
   "cell_type": "code",
   "execution_count": 17,
   "id": "28c931f0",
   "metadata": {
    "execution": {
     "iopub.execute_input": "2025-06-02T08:30:43.933716Z",
     "iopub.status.busy": "2025-06-02T08:30:43.933368Z",
     "iopub.status.idle": "2025-06-02T18:17:18.751067Z",
     "shell.execute_reply": "2025-06-02T18:17:18.749358Z"
    },
    "papermill": {
     "duration": 35194.8286,
     "end_time": "2025-06-02T18:17:18.753172",
     "exception": false,
     "start_time": "2025-06-02T08:30:43.924572",
     "status": "completed"
    },
    "tags": []
   },
   "outputs": [
    {
     "name": "stdout",
     "output_type": "stream",
     "text": [
      "[LightGBM] [Info] Auto-choosing col-wise multi-threading, the overhead of testing was 0.020468 seconds.\n",
      "You can set `force_col_wise=true` to remove the overhead.\n",
      "[LightGBM] [Info] Total Bins 1530\n",
      "[LightGBM] [Info] Number of data points in the train set: 600000, number of used features: 6\n",
      "[LightGBM] [Info] Start training from score 88.309295\n",
      "[LightGBM] [Info] Auto-choosing col-wise multi-threading, the overhead of testing was 0.016144 seconds.\n",
      "You can set `force_col_wise=true` to remove the overhead.\n",
      "[LightGBM] [Info] Total Bins 1530\n",
      "[LightGBM] [Info] Number of data points in the train set: 480000, number of used features: 6\n",
      "[LightGBM] [Info] Start training from score 88.332629\n",
      "[LightGBM] [Info] Auto-choosing col-wise multi-threading, the overhead of testing was 0.014805 seconds.\n",
      "You can set `force_col_wise=true` to remove the overhead.\n",
      "[LightGBM] [Info] Total Bins 1530\n",
      "[LightGBM] [Info] Number of data points in the train set: 480000, number of used features: 6\n",
      "[LightGBM] [Info] Start training from score 88.296937\n",
      "[LightGBM] [Info] Auto-choosing col-wise multi-threading, the overhead of testing was 0.014350 seconds.\n",
      "You can set `force_col_wise=true` to remove the overhead.\n",
      "[LightGBM] [Info] Total Bins 1530\n",
      "[LightGBM] [Info] Number of data points in the train set: 480000, number of used features: 6\n",
      "[LightGBM] [Info] Start training from score 88.362494\n",
      "[LightGBM] [Info] Auto-choosing col-wise multi-threading, the overhead of testing was 0.014763 seconds.\n",
      "You can set `force_col_wise=true` to remove the overhead.\n",
      "[LightGBM] [Info] Total Bins 1530\n",
      "[LightGBM] [Info] Number of data points in the train set: 480000, number of used features: 6\n",
      "[LightGBM] [Info] Start training from score 88.286185\n",
      "[LightGBM] [Info] Auto-choosing col-wise multi-threading, the overhead of testing was 0.014436 seconds.\n",
      "You can set `force_col_wise=true` to remove the overhead.\n",
      "[LightGBM] [Info] Total Bins 1530\n",
      "[LightGBM] [Info] Number of data points in the train set: 480000, number of used features: 6\n",
      "[LightGBM] [Info] Start training from score 88.268229\n",
      "[LightGBM] [Info] Auto-choosing col-wise multi-threading, the overhead of testing was 0.038853 seconds.\n",
      "You can set `force_col_wise=true` to remove the overhead.\n",
      "[LightGBM] [Info] Total Bins 3060\n",
      "[LightGBM] [Info] Number of data points in the train set: 600000, number of used features: 12\n",
      "[LightGBM] [Info] Start training from score 88.309295\n"
     ]
    },
    {
     "data": {
      "text/html": [
       "<style>#sk-container-id-1 {color: black;background-color: white;}#sk-container-id-1 pre{padding: 0;}#sk-container-id-1 div.sk-toggleable {background-color: white;}#sk-container-id-1 label.sk-toggleable__label {cursor: pointer;display: block;width: 100%;margin-bottom: 0;padding: 0.3em;box-sizing: border-box;text-align: center;}#sk-container-id-1 label.sk-toggleable__label-arrow:before {content: \"▸\";float: left;margin-right: 0.25em;color: #696969;}#sk-container-id-1 label.sk-toggleable__label-arrow:hover:before {color: black;}#sk-container-id-1 div.sk-estimator:hover label.sk-toggleable__label-arrow:before {color: black;}#sk-container-id-1 div.sk-toggleable__content {max-height: 0;max-width: 0;overflow: hidden;text-align: left;background-color: #f0f8ff;}#sk-container-id-1 div.sk-toggleable__content pre {margin: 0.2em;color: black;border-radius: 0.25em;background-color: #f0f8ff;}#sk-container-id-1 input.sk-toggleable__control:checked~div.sk-toggleable__content {max-height: 200px;max-width: 100%;overflow: auto;}#sk-container-id-1 input.sk-toggleable__control:checked~label.sk-toggleable__label-arrow:before {content: \"▾\";}#sk-container-id-1 div.sk-estimator input.sk-toggleable__control:checked~label.sk-toggleable__label {background-color: #d4ebff;}#sk-container-id-1 div.sk-label input.sk-toggleable__control:checked~label.sk-toggleable__label {background-color: #d4ebff;}#sk-container-id-1 input.sk-hidden--visually {border: 0;clip: rect(1px 1px 1px 1px);clip: rect(1px, 1px, 1px, 1px);height: 1px;margin: -1px;overflow: hidden;padding: 0;position: absolute;width: 1px;}#sk-container-id-1 div.sk-estimator {font-family: monospace;background-color: #f0f8ff;border: 1px dotted black;border-radius: 0.25em;box-sizing: border-box;margin-bottom: 0.5em;}#sk-container-id-1 div.sk-estimator:hover {background-color: #d4ebff;}#sk-container-id-1 div.sk-parallel-item::after {content: \"\";width: 100%;border-bottom: 1px solid gray;flex-grow: 1;}#sk-container-id-1 div.sk-label:hover label.sk-toggleable__label {background-color: #d4ebff;}#sk-container-id-1 div.sk-serial::before {content: \"\";position: absolute;border-left: 1px solid gray;box-sizing: border-box;top: 0;bottom: 0;left: 50%;z-index: 0;}#sk-container-id-1 div.sk-serial {display: flex;flex-direction: column;align-items: center;background-color: white;padding-right: 0.2em;padding-left: 0.2em;position: relative;}#sk-container-id-1 div.sk-item {position: relative;z-index: 1;}#sk-container-id-1 div.sk-parallel {display: flex;align-items: stretch;justify-content: center;background-color: white;position: relative;}#sk-container-id-1 div.sk-item::before, #sk-container-id-1 div.sk-parallel-item::before {content: \"\";position: absolute;border-left: 1px solid gray;box-sizing: border-box;top: 0;bottom: 0;left: 50%;z-index: -1;}#sk-container-id-1 div.sk-parallel-item {display: flex;flex-direction: column;z-index: 1;position: relative;background-color: white;}#sk-container-id-1 div.sk-parallel-item:first-child::after {align-self: flex-end;width: 50%;}#sk-container-id-1 div.sk-parallel-item:last-child::after {align-self: flex-start;width: 50%;}#sk-container-id-1 div.sk-parallel-item:only-child::after {width: 0;}#sk-container-id-1 div.sk-dashed-wrapped {border: 1px dashed gray;margin: 0 0.4em 0.5em 0.4em;box-sizing: border-box;padding-bottom: 0.4em;background-color: white;}#sk-container-id-1 div.sk-label label {font-family: monospace;font-weight: bold;display: inline-block;line-height: 1.2em;}#sk-container-id-1 div.sk-label-container {text-align: center;}#sk-container-id-1 div.sk-container {/* jupyter's `normalize.less` sets `[hidden] { display: none; }` but bootstrap.min.css set `[hidden] { display: none !important; }` so we also need the `!important` here to be able to override the default hidden behavior on the sphinx rendered scikit-learn.org. See: https://github.com/scikit-learn/scikit-learn/issues/21755 */display: inline-block !important;position: relative;}#sk-container-id-1 div.sk-text-repr-fallback {display: none;}</style><div id=\"sk-container-id-1\" class=\"sk-top-container\"><div class=\"sk-text-repr-fallback\"><pre>StackingRegressor(estimators=[(&#x27;lgb&#x27;,\n",
       "                               LGBMRegressor(colsample_bytree=0.85,\n",
       "                                             learning_rate=0.008,\n",
       "                                             n_estimators=1500, num_leaves=60,\n",
       "                                             random_state=2025,\n",
       "                                             subsample=0.9)),\n",
       "                              (&#x27;xgb&#x27;,\n",
       "                               XGBRegressor(base_score=None, booster=None,\n",
       "                                            callbacks=None,\n",
       "                                            colsample_bylevel=None,\n",
       "                                            colsample_bynode=None,\n",
       "                                            colsample_bytree=0.85, device=None,\n",
       "                                            early_stopping_rounds=None,\n",
       "                                            enable_categorical=Fa...\n",
       "                                            n_estimators=1500, n_jobs=None,\n",
       "                                            num_parallel_tree=None,\n",
       "                                            random_state=2025, ...)),\n",
       "                              (&#x27;cat&#x27;,\n",
       "                               &lt;catboost.core.CatBoostRegressor object at 0x7d29c45b5f10&gt;),\n",
       "                              (&#x27;mlp&#x27;,\n",
       "                               MLPRegressor(hidden_layer_sizes=(128, 64),\n",
       "                                            max_iter=1000, random_state=2025)),\n",
       "                              (&#x27;ridge&#x27;, Ridge()),\n",
       "                              (&#x27;lasso&#x27;, Lasso(alpha=0.001))],\n",
       "                  final_estimator=LGBMRegressor(learning_rate=0.03,\n",
       "                                                n_estimators=500),\n",
       "                  passthrough=True)</pre><b>In a Jupyter environment, please rerun this cell to show the HTML representation or trust the notebook. <br />On GitHub, the HTML representation is unable to render, please try loading this page with nbviewer.org.</b></div><div class=\"sk-container\" hidden><div class=\"sk-item sk-dashed-wrapped\"><div class=\"sk-label-container\"><div class=\"sk-label sk-toggleable\"><input class=\"sk-toggleable__control sk-hidden--visually\" id=\"sk-estimator-id-1\" type=\"checkbox\" ><label for=\"sk-estimator-id-1\" class=\"sk-toggleable__label sk-toggleable__label-arrow\">StackingRegressor</label><div class=\"sk-toggleable__content\"><pre>StackingRegressor(estimators=[(&#x27;lgb&#x27;,\n",
       "                               LGBMRegressor(colsample_bytree=0.85,\n",
       "                                             learning_rate=0.008,\n",
       "                                             n_estimators=1500, num_leaves=60,\n",
       "                                             random_state=2025,\n",
       "                                             subsample=0.9)),\n",
       "                              (&#x27;xgb&#x27;,\n",
       "                               XGBRegressor(base_score=None, booster=None,\n",
       "                                            callbacks=None,\n",
       "                                            colsample_bylevel=None,\n",
       "                                            colsample_bynode=None,\n",
       "                                            colsample_bytree=0.85, device=None,\n",
       "                                            early_stopping_rounds=None,\n",
       "                                            enable_categorical=Fa...\n",
       "                                            n_estimators=1500, n_jobs=None,\n",
       "                                            num_parallel_tree=None,\n",
       "                                            random_state=2025, ...)),\n",
       "                              (&#x27;cat&#x27;,\n",
       "                               &lt;catboost.core.CatBoostRegressor object at 0x7d29c45b5f10&gt;),\n",
       "                              (&#x27;mlp&#x27;,\n",
       "                               MLPRegressor(hidden_layer_sizes=(128, 64),\n",
       "                                            max_iter=1000, random_state=2025)),\n",
       "                              (&#x27;ridge&#x27;, Ridge()),\n",
       "                              (&#x27;lasso&#x27;, Lasso(alpha=0.001))],\n",
       "                  final_estimator=LGBMRegressor(learning_rate=0.03,\n",
       "                                                n_estimators=500),\n",
       "                  passthrough=True)</pre></div></div></div><div class=\"sk-serial\"><div class=\"sk-item\"><div class=\"sk-parallel\"><div class=\"sk-parallel-item\"><div class=\"sk-item\"><div class=\"sk-label-container\"><div class=\"sk-label sk-toggleable\"><label>lgb</label></div></div><div class=\"sk-serial\"><div class=\"sk-item\"><div class=\"sk-estimator sk-toggleable\"><input class=\"sk-toggleable__control sk-hidden--visually\" id=\"sk-estimator-id-2\" type=\"checkbox\" ><label for=\"sk-estimator-id-2\" class=\"sk-toggleable__label sk-toggleable__label-arrow\">LGBMRegressor</label><div class=\"sk-toggleable__content\"><pre>LGBMRegressor(colsample_bytree=0.85, learning_rate=0.008, n_estimators=1500,\n",
       "              num_leaves=60, random_state=2025, subsample=0.9)</pre></div></div></div></div></div></div><div class=\"sk-parallel-item\"><div class=\"sk-item\"><div class=\"sk-label-container\"><div class=\"sk-label sk-toggleable\"><label>xgb</label></div></div><div class=\"sk-serial\"><div class=\"sk-item\"><div class=\"sk-estimator sk-toggleable\"><input class=\"sk-toggleable__control sk-hidden--visually\" id=\"sk-estimator-id-3\" type=\"checkbox\" ><label for=\"sk-estimator-id-3\" class=\"sk-toggleable__label sk-toggleable__label-arrow\">XGBRegressor</label><div class=\"sk-toggleable__content\"><pre>XGBRegressor(base_score=None, booster=None, callbacks=None,\n",
       "             colsample_bylevel=None, colsample_bynode=None,\n",
       "             colsample_bytree=0.85, device=None, early_stopping_rounds=None,\n",
       "             enable_categorical=False, eval_metric=None, feature_types=None,\n",
       "             gamma=None, grow_policy=None, importance_type=None,\n",
       "             interaction_constraints=None, learning_rate=0.008, max_bin=None,\n",
       "             max_cat_threshold=None, max_cat_to_onehot=None,\n",
       "             max_delta_step=None, max_depth=6, max_leaves=None,\n",
       "             min_child_weight=None, missing=nan, monotone_constraints=None,\n",
       "             multi_strategy=None, n_estimators=1500, n_jobs=None,\n",
       "             num_parallel_tree=None, random_state=2025, ...)</pre></div></div></div></div></div></div><div class=\"sk-parallel-item\"><div class=\"sk-item\"><div class=\"sk-label-container\"><div class=\"sk-label sk-toggleable\"><label>cat</label></div></div><div class=\"sk-serial\"><div class=\"sk-item\"><div class=\"sk-estimator sk-toggleable\"><input class=\"sk-toggleable__control sk-hidden--visually\" id=\"sk-estimator-id-4\" type=\"checkbox\" ><label for=\"sk-estimator-id-4\" class=\"sk-toggleable__label sk-toggleable__label-arrow\">CatBoostRegressor</label><div class=\"sk-toggleable__content\"><pre>&lt;catboost.core.CatBoostRegressor object at 0x7d29c45b5f10&gt;</pre></div></div></div></div></div></div><div class=\"sk-parallel-item\"><div class=\"sk-item\"><div class=\"sk-label-container\"><div class=\"sk-label sk-toggleable\"><label>mlp</label></div></div><div class=\"sk-serial\"><div class=\"sk-item\"><div class=\"sk-estimator sk-toggleable\"><input class=\"sk-toggleable__control sk-hidden--visually\" id=\"sk-estimator-id-5\" type=\"checkbox\" ><label for=\"sk-estimator-id-5\" class=\"sk-toggleable__label sk-toggleable__label-arrow\">MLPRegressor</label><div class=\"sk-toggleable__content\"><pre>MLPRegressor(hidden_layer_sizes=(128, 64), max_iter=1000, random_state=2025)</pre></div></div></div></div></div></div><div class=\"sk-parallel-item\"><div class=\"sk-item\"><div class=\"sk-label-container\"><div class=\"sk-label sk-toggleable\"><label>ridge</label></div></div><div class=\"sk-serial\"><div class=\"sk-item\"><div class=\"sk-estimator sk-toggleable\"><input class=\"sk-toggleable__control sk-hidden--visually\" id=\"sk-estimator-id-6\" type=\"checkbox\" ><label for=\"sk-estimator-id-6\" class=\"sk-toggleable__label sk-toggleable__label-arrow\">Ridge</label><div class=\"sk-toggleable__content\"><pre>Ridge()</pre></div></div></div></div></div></div><div class=\"sk-parallel-item\"><div class=\"sk-item\"><div class=\"sk-label-container\"><div class=\"sk-label sk-toggleable\"><label>lasso</label></div></div><div class=\"sk-serial\"><div class=\"sk-item\"><div class=\"sk-estimator sk-toggleable\"><input class=\"sk-toggleable__control sk-hidden--visually\" id=\"sk-estimator-id-7\" type=\"checkbox\" ><label for=\"sk-estimator-id-7\" class=\"sk-toggleable__label sk-toggleable__label-arrow\">Lasso</label><div class=\"sk-toggleable__content\"><pre>Lasso(alpha=0.001)</pre></div></div></div></div></div></div></div></div><div class=\"sk-item\"><div class=\"sk-parallel\"><div class=\"sk-parallel-item\"><div class=\"sk-item\"><div class=\"sk-label-container\"><div class=\"sk-label sk-toggleable\"><label>final_estimator</label></div></div><div class=\"sk-serial\"><div class=\"sk-item\"><div class=\"sk-estimator sk-toggleable\"><input class=\"sk-toggleable__control sk-hidden--visually\" id=\"sk-estimator-id-8\" type=\"checkbox\" ><label for=\"sk-estimator-id-8\" class=\"sk-toggleable__label sk-toggleable__label-arrow\">LGBMRegressor</label><div class=\"sk-toggleable__content\"><pre>LGBMRegressor(learning_rate=0.03, n_estimators=500)</pre></div></div></div></div></div></div></div></div></div></div></div></div>"
      ],
      "text/plain": [
       "StackingRegressor(estimators=[('lgb',\n",
       "                               LGBMRegressor(colsample_bytree=0.85,\n",
       "                                             learning_rate=0.008,\n",
       "                                             n_estimators=1500, num_leaves=60,\n",
       "                                             random_state=2025,\n",
       "                                             subsample=0.9)),\n",
       "                              ('xgb',\n",
       "                               XGBRegressor(base_score=None, booster=None,\n",
       "                                            callbacks=None,\n",
       "                                            colsample_bylevel=None,\n",
       "                                            colsample_bynode=None,\n",
       "                                            colsample_bytree=0.85, device=None,\n",
       "                                            early_stopping_rounds=None,\n",
       "                                            enable_categorical=Fa...\n",
       "                                            n_estimators=1500, n_jobs=None,\n",
       "                                            num_parallel_tree=None,\n",
       "                                            random_state=2025, ...)),\n",
       "                              ('cat',\n",
       "                               <catboost.core.CatBoostRegressor object at 0x7d29c45b5f10>),\n",
       "                              ('mlp',\n",
       "                               MLPRegressor(hidden_layer_sizes=(128, 64),\n",
       "                                            max_iter=1000, random_state=2025)),\n",
       "                              ('ridge', Ridge()),\n",
       "                              ('lasso', Lasso(alpha=0.001))],\n",
       "                  final_estimator=LGBMRegressor(learning_rate=0.03,\n",
       "                                                n_estimators=500),\n",
       "                  passthrough=True)"
      ]
     },
     "execution_count": 17,
     "metadata": {},
     "output_type": "execute_result"
    }
   ],
   "source": [
    "# Training\n",
    "ensemble.fit(X_train, y_train)"
   ]
  },
  {
   "cell_type": "code",
   "execution_count": 18,
   "id": "a31d72bb",
   "metadata": {
    "execution": {
     "iopub.execute_input": "2025-06-02T18:17:18.774475Z",
     "iopub.status.busy": "2025-06-02T18:17:18.773908Z",
     "iopub.status.idle": "2025-06-02T18:17:41.358514Z",
     "shell.execute_reply": "2025-06-02T18:17:41.357315Z"
    },
    "papermill": {
     "duration": 22.597841,
     "end_time": "2025-06-02T18:17:41.360457",
     "exception": false,
     "start_time": "2025-06-02T18:17:18.762616",
     "status": "completed"
    },
    "tags": []
   },
   "outputs": [],
   "source": [
    "# Validation\n",
    "val_preds = ensemble.predict(X_val)\n",
    "all_val_preds.extend(val_preds)\n",
    "all_val_true.extend(y_val)\n"
   ]
  },
  {
   "cell_type": "code",
   "execution_count": 19,
   "id": "adeb2e71",
   "metadata": {
    "execution": {
     "iopub.execute_input": "2025-06-02T18:17:41.380332Z",
     "iopub.status.busy": "2025-06-02T18:17:41.379944Z",
     "iopub.status.idle": "2025-06-02T18:17:41.394321Z",
     "shell.execute_reply": "2025-06-02T18:17:41.393239Z"
    },
    "papermill": {
     "duration": 0.025784,
     "end_time": "2025-06-02T18:17:41.395961",
     "exception": false,
     "start_time": "2025-06-02T18:17:41.370177",
     "status": "completed"
    },
    "tags": []
   },
   "outputs": [],
   "source": [
    "# Evaluation on validation set for this fold\n",
    "rmse_val = mean_squared_error(y_val, val_preds, squared=False)\n",
    "mae_val = mean_absolute_error(y_val, val_preds)\n",
    "r2_val = r2_score(y_val, val_preds)"
   ]
  },
  {
   "cell_type": "code",
   "execution_count": 20,
   "id": "99f58618",
   "metadata": {
    "execution": {
     "iopub.execute_input": "2025-06-02T18:17:41.415740Z",
     "iopub.status.busy": "2025-06-02T18:17:41.415450Z",
     "iopub.status.idle": "2025-06-02T18:17:41.421183Z",
     "shell.execute_reply": "2025-06-02T18:17:41.420195Z"
    },
    "papermill": {
     "duration": 0.017629,
     "end_time": "2025-06-02T18:17:41.422864",
     "exception": false,
     "start_time": "2025-06-02T18:17:41.405235",
     "status": "completed"
    },
    "tags": []
   },
   "outputs": [
    {
     "name": "stdout",
     "output_type": "stream",
     "text": [
      "Fold 5 - Validation RMSE: 4.4959, MAE: 2.9760, R2: 0.9948\n"
     ]
    }
   ],
   "source": [
    "print(f\"Fold {fold+1} - Validation RMSE: {rmse_val:.4f}, MAE: {mae_val:.4f}, R2: {r2_val:.4f}\")\n",
    "val_scores.append({'Fold': fold+1, 'RMSE': rmse_val, 'MAE': mae_val, 'R2': r2_val})"
   ]
  },
  {
   "cell_type": "code",
   "execution_count": 21,
   "id": "791b8473",
   "metadata": {
    "execution": {
     "iopub.execute_input": "2025-06-02T18:17:41.441922Z",
     "iopub.status.busy": "2025-06-02T18:17:41.441651Z",
     "iopub.status.idle": "2025-06-02T18:18:19.473026Z",
     "shell.execute_reply": "2025-06-02T18:18:19.472063Z"
    },
    "papermill": {
     "duration": 38.04306,
     "end_time": "2025-06-02T18:18:19.474819",
     "exception": false,
     "start_time": "2025-06-02T18:17:41.431759",
     "status": "completed"
    },
    "tags": []
   },
   "outputs": [],
   "source": [
    "# Testing (Predict on the test set for this fold)\n",
    "fold_test_preds = ensemble.predict(test_pca) # Predict on the processed test data\n",
    "final_preds += fold_test_preds / kf.n_splits # Accumulate predictions and average later"
   ]
  },
  {
   "cell_type": "code",
   "execution_count": 22,
   "id": "e4ff36c2",
   "metadata": {
    "execution": {
     "iopub.execute_input": "2025-06-02T18:18:19.496278Z",
     "iopub.status.busy": "2025-06-02T18:18:19.495821Z",
     "iopub.status.idle": "2025-06-02T18:18:19.564477Z",
     "shell.execute_reply": "2025-06-02T18:18:19.563402Z"
    },
    "papermill": {
     "duration": 0.079653,
     "end_time": "2025-06-02T18:18:19.566017",
     "exception": false,
     "start_time": "2025-06-02T18:18:19.486364",
     "status": "completed"
    },
    "tags": []
   },
   "outputs": [
    {
     "name": "stdout",
     "output_type": "stream",
     "text": [
      "\n",
      "--- Overall Validation Results ---\n"
     ]
    }
   ],
   "source": [
    "# --- Evaluation on all validation predictions ---\n",
    "overall_rmse = mean_squared_error(all_val_true, all_val_preds, squared=False)\n",
    "overall_mae = mean_absolute_error(all_val_true, all_val_preds)\n",
    "overall_r2 = r2_score(all_val_true, all_val_preds)\n",
    "\n",
    "print(\"\\n--- Overall Validation Results ---\")"
   ]
  },
  {
   "cell_type": "code",
   "execution_count": 23,
   "id": "65958a1d",
   "metadata": {
    "execution": {
     "iopub.execute_input": "2025-06-02T18:18:19.588719Z",
     "iopub.status.busy": "2025-06-02T18:18:19.588408Z",
     "iopub.status.idle": "2025-06-02T18:18:19.594305Z",
     "shell.execute_reply": "2025-06-02T18:18:19.593279Z"
    },
    "papermill": {
     "duration": 0.018265,
     "end_time": "2025-06-02T18:18:19.595918",
     "exception": false,
     "start_time": "2025-06-02T18:18:19.577653",
     "status": "completed"
    },
    "tags": []
   },
   "outputs": [
    {
     "name": "stdout",
     "output_type": "stream",
     "text": [
      "Overall RMSE: 4.4959\n"
     ]
    }
   ],
   "source": [
    "print(f\"Overall RMSE: {overall_rmse:.4f}\")"
   ]
  },
  {
   "cell_type": "code",
   "execution_count": 24,
   "id": "f32223b1",
   "metadata": {
    "execution": {
     "iopub.execute_input": "2025-06-02T18:18:19.615812Z",
     "iopub.status.busy": "2025-06-02T18:18:19.614951Z",
     "iopub.status.idle": "2025-06-02T18:18:19.620457Z",
     "shell.execute_reply": "2025-06-02T18:18:19.619453Z"
    },
    "papermill": {
     "duration": 0.016992,
     "end_time": "2025-06-02T18:18:19.622004",
     "exception": false,
     "start_time": "2025-06-02T18:18:19.605012",
     "status": "completed"
    },
    "tags": []
   },
   "outputs": [
    {
     "name": "stdout",
     "output_type": "stream",
     "text": [
      "Overall MAE: 2.9760\n"
     ]
    }
   ],
   "source": [
    "print(f\"Overall MAE: {overall_mae:.4f}\")"
   ]
  },
  {
   "cell_type": "code",
   "execution_count": 25,
   "id": "2ad4cac8",
   "metadata": {
    "execution": {
     "iopub.execute_input": "2025-06-02T18:18:19.641597Z",
     "iopub.status.busy": "2025-06-02T18:18:19.641238Z",
     "iopub.status.idle": "2025-06-02T18:18:19.646584Z",
     "shell.execute_reply": "2025-06-02T18:18:19.645709Z"
    },
    "papermill": {
     "duration": 0.016802,
     "end_time": "2025-06-02T18:18:19.648028",
     "exception": false,
     "start_time": "2025-06-02T18:18:19.631226",
     "status": "completed"
    },
    "tags": []
   },
   "outputs": [
    {
     "name": "stdout",
     "output_type": "stream",
     "text": [
      "Overall R2: 0.9948\n"
     ]
    }
   ],
   "source": [
    "print(f\"Overall R2: {overall_r2:.4f}\")\n"
   ]
  },
  {
   "cell_type": "code",
   "execution_count": 26,
   "id": "1fbadcf6",
   "metadata": {
    "execution": {
     "iopub.execute_input": "2025-06-02T18:18:19.667304Z",
     "iopub.status.busy": "2025-06-02T18:18:19.666965Z",
     "iopub.status.idle": "2025-06-02T18:18:19.688513Z",
     "shell.execute_reply": "2025-06-02T18:18:19.687597Z"
    },
    "papermill": {
     "duration": 0.032898,
     "end_time": "2025-06-02T18:18:19.689984",
     "exception": false,
     "start_time": "2025-06-02T18:18:19.657086",
     "status": "completed"
    },
    "tags": []
   },
   "outputs": [
    {
     "name": "stdout",
     "output_type": "stream",
     "text": [
      "\n",
      "Validation Scores per Fold:\n",
      "   Fold      RMSE       MAE        R2\n",
      "0     5  4.495904  2.975995  0.994826\n"
     ]
    }
   ],
   "source": [
    "# Display validation scores per fold\n",
    "val_scores_df = pd.DataFrame(val_scores)\n",
    "print(\"\\nValidation Scores per Fold:\")\n",
    "print(val_scores_df)\n"
   ]
  },
  {
   "cell_type": "code",
   "execution_count": 27,
   "id": "ba83d7a5",
   "metadata": {
    "execution": {
     "iopub.execute_input": "2025-06-02T18:18:19.710128Z",
     "iopub.status.busy": "2025-06-02T18:18:19.709796Z",
     "iopub.status.idle": "2025-06-02T18:18:19.715192Z",
     "shell.execute_reply": "2025-06-02T18:18:19.714295Z"
    },
    "papermill": {
     "duration": 0.017325,
     "end_time": "2025-06-02T18:18:19.716767",
     "exception": false,
     "start_time": "2025-06-02T18:18:19.699442",
     "status": "completed"
    },
    "tags": []
   },
   "outputs": [
    {
     "name": "stdout",
     "output_type": "stream",
     "text": [
      "\n",
      "First 10 final test predictions (averaged across folds):\n",
      "[ 5.80286653 21.15232903 18.10055191 26.07093158 14.67366795  3.85391674\n",
      "  9.60634006  1.20129156  2.10574782 39.85537394]\n"
     ]
    }
   ],
   "source": [
    "print(\"\\nFirst 10 final test predictions (averaged across folds):\")\n",
    "print(final_preds[:10])"
   ]
  },
  {
   "cell_type": "code",
   "execution_count": 28,
   "id": "048218eb",
   "metadata": {
    "execution": {
     "iopub.execute_input": "2025-06-02T18:18:19.736875Z",
     "iopub.status.busy": "2025-06-02T18:18:19.736556Z",
     "iopub.status.idle": "2025-06-02T18:18:20.337451Z",
     "shell.execute_reply": "2025-06-02T18:18:20.336554Z"
    },
    "papermill": {
     "duration": 0.612928,
     "end_time": "2025-06-02T18:18:20.339385",
     "exception": false,
     "start_time": "2025-06-02T18:18:19.726457",
     "status": "completed"
    },
    "tags": []
   },
   "outputs": [],
   "source": [
    "# Create submission DataFrame\n",
    "submission['Calories'] = final_preds\n",
    "submission.to_csv('submission.csv', index=False)"
   ]
  },
  {
   "cell_type": "code",
   "execution_count": 29,
   "id": "d184e8fb",
   "metadata": {
    "execution": {
     "iopub.execute_input": "2025-06-02T18:18:20.359773Z",
     "iopub.status.busy": "2025-06-02T18:18:20.359453Z",
     "iopub.status.idle": "2025-06-02T18:18:20.366128Z",
     "shell.execute_reply": "2025-06-02T18:18:20.365131Z"
    },
    "papermill": {
     "duration": 0.018694,
     "end_time": "2025-06-02T18:18:20.367646",
     "exception": false,
     "start_time": "2025-06-02T18:18:20.348952",
     "status": "completed"
    },
    "tags": []
   },
   "outputs": [
    {
     "name": "stdout",
     "output_type": "stream",
     "text": [
      "\n",
      "Submission file created successfully: submission.csv\n",
      "\n",
      "First 5 rows of the submission file:\n",
      "       id   Calories\n",
      "0  750000   5.802867\n",
      "1  750001  21.152329\n",
      "2  750002  18.100552\n",
      "3  750003  26.070932\n",
      "4  750004  14.673668\n"
     ]
    }
   ],
   "source": [
    "print(\"\\nSubmission file created successfully: submission.csv\")\n",
    "print(\"\\nFirst 5 rows of the submission file:\")\n",
    "print(submission.head())"
   ]
  },
  {
   "cell_type": "code",
   "execution_count": null,
   "id": "f3ed2722",
   "metadata": {
    "papermill": {
     "duration": 0.009175,
     "end_time": "2025-06-02T18:18:20.386708",
     "exception": false,
     "start_time": "2025-06-02T18:18:20.377533",
     "status": "completed"
    },
    "tags": []
   },
   "outputs": [],
   "source": []
  }
 ],
 "metadata": {
  "kaggle": {
   "accelerator": "none",
   "dataSources": [
    {
     "databundleVersionId": 11893428,
     "sourceId": 91716,
     "sourceType": "competition"
    }
   ],
   "dockerImageVersionId": 31040,
   "isGpuEnabled": false,
   "isInternetEnabled": false,
   "language": "python",
   "sourceType": "notebook"
  },
  "kernelspec": {
   "display_name": "Python 3",
   "language": "python",
   "name": "python3"
  },
  "language_info": {
   "codemirror_mode": {
    "name": "ipython",
    "version": 3
   },
   "file_extension": ".py",
   "mimetype": "text/x-python",
   "name": "python",
   "nbconvert_exporter": "python",
   "pygments_lexer": "ipython3",
   "version": "3.11.11"
  },
  "papermill": {
   "default_parameters": {},
   "duration": 35291.759671,
   "end_time": "2025-06-02T18:18:22.077004",
   "environment_variables": {},
   "exception": null,
   "input_path": "__notebook__.ipynb",
   "output_path": "__notebook__.ipynb",
   "parameters": {},
   "start_time": "2025-06-02T08:30:10.317333",
   "version": "2.6.0"
  }
 },
 "nbformat": 4,
 "nbformat_minor": 5
}
